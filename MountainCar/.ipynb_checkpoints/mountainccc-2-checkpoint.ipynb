{
 "cells": [
  {
   "cell_type": "code",
   "execution_count": 1,
   "id": "4d0cf192",
   "metadata": {},
   "outputs": [
    {
     "ename": "ModuleNotFoundError",
     "evalue": "No module named 'gym'",
     "output_type": "error",
     "traceback": [
      "\u001b[1;31m---------------------------------------------------------------------------\u001b[0m",
      "\u001b[1;31mModuleNotFoundError\u001b[0m                       Traceback (most recent call last)",
      "Input \u001b[1;32mIn [1]\u001b[0m, in \u001b[0;36m<cell line: 1>\u001b[1;34m()\u001b[0m\n\u001b[1;32m----> 1\u001b[0m \u001b[38;5;28;01mimport\u001b[39;00m \u001b[38;5;21;01mgym\u001b[39;00m\n\u001b[0;32m      2\u001b[0m \u001b[38;5;28;01mimport\u001b[39;00m \u001b[38;5;21;01mmath\u001b[39;00m\n\u001b[0;32m      3\u001b[0m \u001b[38;5;28;01mimport\u001b[39;00m \u001b[38;5;21;01mrandom\u001b[39;00m\n",
      "\u001b[1;31mModuleNotFoundError\u001b[0m: No module named 'gym'"
     ]
    }
   ],
   "source": [
    "import gym\n",
    "import math\n",
    "import random\n",
    "import numpy as np\n",
    "import matplotlib\n",
    "import matplotlib.pyplot as plt\n",
    "from collections import namedtuple\n",
    "from itertools import count\n",
    "from PIL import Image"
   ]
  },
  {
   "cell_type": "code",
   "execution_count": 2,
   "id": "8f221771",
   "metadata": {},
   "outputs": [
    {
     "ename": "NameError",
     "evalue": "name 'matplotlib' is not defined",
     "output_type": "error",
     "traceback": [
      "\u001b[1;31m---------------------------------------------------------------------------\u001b[0m",
      "\u001b[1;31mNameError\u001b[0m                                 Traceback (most recent call last)",
      "Input \u001b[1;32mIn [2]\u001b[0m, in \u001b[0;36m<cell line: 1>\u001b[1;34m()\u001b[0m\n\u001b[1;32m----> 1\u001b[0m is_ipython \u001b[38;5;241m=\u001b[39m \u001b[38;5;124m'\u001b[39m\u001b[38;5;124minline\u001b[39m\u001b[38;5;124m'\u001b[39m \u001b[38;5;129;01min\u001b[39;00m \u001b[43mmatplotlib\u001b[49m\u001b[38;5;241m.\u001b[39mget_backend()\n\u001b[0;32m      2\u001b[0m \u001b[38;5;28;01mif\u001b[39;00m is_ipython:\n\u001b[0;32m      3\u001b[0m     \u001b[38;5;28;01mfrom\u001b[39;00m \u001b[38;5;21;01mIPython\u001b[39;00m \u001b[38;5;28;01mimport\u001b[39;00m display\n",
      "\u001b[1;31mNameError\u001b[0m: name 'matplotlib' is not defined"
     ]
    }
   ],
   "source": [
    "is_ipython = 'inline' in matplotlib.get_backend()\n",
    "if is_ipython:\n",
    "    from IPython import display\n",
    "    \n",
    "plt.ion()"
   ]
  },
  {
   "cell_type": "code",
   "execution_count": 3,
   "id": "0312805a",
   "metadata": {},
   "outputs": [],
   "source": [
    "env = gym.make('MountainCar-v0')\n",
    "env.reset()\n",
    "for _ in range(1000):\n",
    "    env.render()\n",
    "    env.step(env.action_space.sample())#take a random action\n",
    "env.close()"
   ]
  },
  {
   "cell_type": "code",
   "execution_count": 4,
   "id": "8ee86aea",
   "metadata": {},
   "outputs": [],
   "source": [
    "def getHeight(X_position):\n",
    "    return np.sin(3 * X_position) * .45 + .55"
   ]
  },
  {
   "cell_type": "code",
   "execution_count": 5,
   "id": "248215c7",
   "metadata": {},
   "outputs": [],
   "source": [
    "def newreward(pos):\n",
    "    if (pos >= 0.5):\n",
    "        return 2\n",
    "    else:\n",
    "        return (pos+1.2)/1.8 - 1"
   ]
  },
  {
   "cell_type": "code",
   "execution_count": 13,
   "id": "aa9cc547",
   "metadata": {},
   "outputs": [],
   "source": [
    "def QLearning(env, learning, epsilon, min_eps, episodes):\n",
    "    #Determine size of discretized state space\n",
    "    num_states = (env.observation_space.high - env.observation_space.low)*np.array([10, 50])\n",
    "    num_states = np.round(num_states, 0).astype(int) + 1\n",
    "    \n",
    "    #Initialize Q table\n",
    "    Q = np.random.uniform(low = -1, high = 0,size = (num_states[0], num_states[1],env.action_space.n))\n",
    "    Qinit = np.copy(Q)\n",
    "    \n",
    "    #Initialize variables to track rewards\n",
    "    reward_list = []\n",
    "    ave_reward_list = []\n",
    "    \n",
    "    #Make copy of epsilon\n",
    "    eps1 = epsilon\n",
    "    \n",
    "    #Keep track of first success\n",
    "    first = episodes + 1\n",
    "    \n",
    "    #Run Q learning algorithm\n",
    "    for i in range(episodes):\n",
    "        #Initialize parameters\n",
    "        done = False\n",
    "        tot_reward, reward = 0,0\n",
    "        state = env.reset()\n",
    "        \n",
    "        #Discretize state\n",
    "        state_adj = (state - env.observation_space.low)*np.array([10, 50])\n",
    "        state_adj = np.round(state_adj, 0).astype(int)\n",
    "        \n",
    "        while done !=True:\n",
    "            #Render environment for last few episodes\n",
    "            if i >= (episodes - 5) or i<5:\n",
    "                env.render()\n",
    "                \n",
    "        #Determine next action - epsilon greedy strategy\n",
    "        if np.random.random() < 1 - epsilon:\n",
    "            action = np.argmax(Q[state_adj[0], state_dj[1]])\n",
    "        else:\n",
    "            action = np.random.randint(0, env.action_space.n)\n",
    "            \n",
    "        #Get next state and reward\n",
    "        state2, reward, done, info = env.step(action)\n",
    "        \n",
    "        #Discretize state2\n",
    "        state2_adj = (state2 - env.observation_space.low)*np.array([10, 50])\n",
    "        state2_adj = np.round(state2_adj, 0).astype(int)\n",
    "        \n",
    "        #Save tp Qpoints\n",
    "        row = np.array([state2_adj[0],state_adj[1],action])\n",
    "        \n",
    "        #Allow for terminal states\n",
    "        if done and state2[0] >= 0.5:\n",
    "            Q[state_adj[0], state_adj[1], action] = reward\n",
    "            \n",
    "        #Adjust Q value for current state\n",
    "        else:\n",
    "            delta = learning*(newreward(state2[0]) + np.max(Q[state2_adj[0], state2_adj[1]]) - Q[state_adj[0], state_adj[1], action])\n",
    "            Q[state_adj[0], state_adj[1], action] += delta                                                                                    \n",
    "        #Notifies of any clears\n",
    "        if state2[0]>=0.5 and i<first:\n",
    "            first = i\n",
    "            print('first clear on episode {}'.format(i+1))\n",
    "            \n",
    "        #Update variables\n",
    "        tot_reward += newreward(state2[0])\n",
    "        state_adj = state2_adj\n",
    "                                                                                                                                                                  \n",
    "        #Decay epsilon\n",
    "        if epsilon > min_eps:\n",
    "            epsilon *=eps1\n",
    "                                                                                                 \n",
    "        #Track rewards\n",
    "        reward_list.append(tot_reward)\n",
    "                                                                                                 \n",
    "        if (i+1) % 100 == 0:\n",
    "            ave_reward = np.mean(reward_list)\n",
    "            ave_reward_list.append(ave_reward)\n",
    "            reward_list = []\n",
    "                                                                                                 \n",
    "        if (i+1) % 100 == 0:\n",
    "            print('episode {} Average Reward: {}'. format(i+1, ave_reward))\n",
    "    env.close()\n",
    "    \n",
    "    return ave_reward_list, Q, Qinit"
   ]
  },
  {
   "cell_type": "raw",
   "id": "efa89ea2",
   "metadata": {},
   "source": []
  },
  {
   "cell_type": "code",
   "execution_count": 7,
   "id": "d009d288",
   "metadata": {
    "scrolled": true
   },
   "outputs": [
    {
     "name": "stderr",
     "output_type": "stream",
     "text": [
      "C:\\Users\\DELL\\AppData\\Local\\Temp\\ipykernel_2608\\4105191933.py:28: VisibleDeprecationWarning: Creating an ndarray from ragged nested sequences (which is a list-or-tuple of lists-or-tuples-or ndarrays with different lengths or shapes) is deprecated. If you meant to do this, you must specify 'dtype=object' when creating the ndarray.\n",
      "  state_adj = (state - env.observation_space.low)*np.array([10, 50])\n"
     ]
    },
    {
     "ename": "TypeError",
     "evalue": "unsupported operand type(s) for -: 'dict' and 'float'",
     "output_type": "error",
     "traceback": [
      "\u001b[1;31m---------------------------------------------------------------------------\u001b[0m",
      "\u001b[1;31mTypeError\u001b[0m                                 Traceback (most recent call last)",
      "Input \u001b[1;32mIn [7]\u001b[0m, in \u001b[0;36m<cell line: 2>\u001b[1;34m()\u001b[0m\n\u001b[0;32m      1\u001b[0m env\u001b[38;5;241m.\u001b[39mreset()\n\u001b[1;32m----> 2\u001b[0m rewards, Qpts, Qinit \u001b[38;5;241m=\u001b[39m \u001b[43mQLearning\u001b[49m\u001b[43m(\u001b[49m\u001b[43menv\u001b[49m\u001b[43m,\u001b[49m\u001b[43m \u001b[49m\u001b[38;5;241;43m0.2\u001b[39;49m\u001b[43m,\u001b[49m\u001b[43m \u001b[49m\u001b[38;5;241;43m0.999\u001b[39;49m\u001b[43m,\u001b[49m\u001b[43m \u001b[49m\u001b[38;5;241;43m0\u001b[39;49m\u001b[43m,\u001b[49m\u001b[43m \u001b[49m\u001b[38;5;241;43m10000\u001b[39;49m\u001b[43m)\u001b[49m\n",
      "Input \u001b[1;32mIn [6]\u001b[0m, in \u001b[0;36mQLearning\u001b[1;34m(env, learning, epsilon, min_eps, episodes)\u001b[0m\n\u001b[0;32m     25\u001b[0m state \u001b[38;5;241m=\u001b[39m env\u001b[38;5;241m.\u001b[39mreset()\n\u001b[0;32m     27\u001b[0m \u001b[38;5;66;03m#Discretize state\u001b[39;00m\n\u001b[1;32m---> 28\u001b[0m state_adj \u001b[38;5;241m=\u001b[39m (\u001b[43mstate\u001b[49m\u001b[43m \u001b[49m\u001b[38;5;241;43m-\u001b[39;49m\u001b[43m \u001b[49m\u001b[43menv\u001b[49m\u001b[38;5;241;43m.\u001b[39;49m\u001b[43mobservation_space\u001b[49m\u001b[38;5;241;43m.\u001b[39;49m\u001b[43mlow\u001b[49m)\u001b[38;5;241m*\u001b[39mnp\u001b[38;5;241m.\u001b[39marray([\u001b[38;5;241m10\u001b[39m, \u001b[38;5;241m50\u001b[39m])\n\u001b[0;32m     29\u001b[0m state_adj \u001b[38;5;241m=\u001b[39m np\u001b[38;5;241m.\u001b[39mround(state_adj, \u001b[38;5;241m0\u001b[39m)\u001b[38;5;241m.\u001b[39mastype(\u001b[38;5;28mint\u001b[39m)\n\u001b[0;32m     31\u001b[0m \u001b[38;5;28;01mwhile\u001b[39;00m done \u001b[38;5;241m!=\u001b[39m\u001b[38;5;28;01mTrue\u001b[39;00m:\n\u001b[0;32m     32\u001b[0m     \u001b[38;5;66;03m#Render environment for last few episodes\u001b[39;00m\n",
      "\u001b[1;31mTypeError\u001b[0m: unsupported operand type(s) for -: 'dict' and 'float'"
     ]
    }
   ],
   "source": [
    "env.reset()\n",
    "rewards, Qpts, Qinit = QLearning(env, 0.2, 0.999, 0, 10000)"
   ]
  },
  {
   "cell_type": "code",
   "execution_count": null,
   "id": "8c7692bc",
   "metadata": {},
   "outputs": [],
   "source": []
  }
 ],
 "metadata": {
  "kernelspec": {
   "display_name": "Python 3 (ipykernel)",
   "language": "python",
   "name": "python3"
  },
  "language_info": {
   "codemirror_mode": {
    "name": "ipython",
    "version": 3
   },
   "file_extension": ".py",
   "mimetype": "text/x-python",
   "name": "python",
   "nbconvert_exporter": "python",
   "pygments_lexer": "ipython3",
   "version": "3.10.2"
  }
 },
 "nbformat": 4,
 "nbformat_minor": 5
}
